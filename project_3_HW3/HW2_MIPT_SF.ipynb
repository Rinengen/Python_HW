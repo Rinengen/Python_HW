{
  "cells": [
    {
      "cell_type": "code",
      "execution_count": null,
      "metadata": {},
      "outputs": [],
      "source": [
        "from beartype import beartype"
      ]
    },
    {
      "cell_type": "markdown",
      "metadata": {
        "id": "2GJcyIoN4arc"
      },
      "source": [
        "#Reversed integer"
      ]
    },
    {
      "cell_type": "markdown",
      "metadata": {
        "id": "nDpM0sXf4dv5"
      },
      "source": [
        "Вам дано число целого типа ``a``. Вам необходимо написать функцию, которая принимает это число на вход, а на выход выдает целое число, цифры в котором записаны в обратном порядке.\n",
        "\n",
        "\n",
        "**Sample Input 1:**\n",
        "\n",
        "``\n",
        "a = 123\n",
        "``\n",
        "\n",
        "**Sample Output 1:**\n",
        "\n",
        "``321``\n",
        "\n",
        "**Sample Input 2:**\n",
        "\n",
        "``\n",
        "a = 120\n",
        "``\n",
        "\n",
        "**Sample Output 2:**\n",
        "\n",
        "``21``\n",
        "\n",
        "**Sample Input 3:**\n",
        "\n",
        "``\n",
        "-123\n",
        "``\n",
        "\n",
        "**Sample Output 3:**\n",
        "\n",
        "``321``"
      ]
    },
    {
      "cell_type": "code",
      "execution_count": null,
      "metadata": {
        "id": "zy1TNSPU6ARi"
      },
      "outputs": [],
      "source": [
        "a = int(input())\n",
        "def reverse_number(a: int) -> int:\n",
        "    \"\"\"\n",
        "    Функция, которая на вход принимает число a, а возвращает \n",
        "    число, цифры в котором записаны в обратном порядке.\n",
        "    :param a: число входящее\n",
        "    :return reverse: число в обратной последовательности\n",
        "    \"\"\"\n",
        "    \n",
        "    if a == 0: return 0\n",
        "    a = abs(a) # Модуль числа\n",
        "    res = str(a)\n",
        "    while res.endswith('0'):\n",
        "      res = res[:-1]\n",
        "    revers = int(res[::-1])\n",
        "    return revers\n",
        "\n",
        "    \n",
        "reverse_number(a)\n",
        "\n",
        "    \n"
      ]
    },
    {
      "cell_type": "markdown",
      "metadata": {
        "id": "GT_lUMYz5YfQ"
      },
      "source": [
        "#Выколотый квадрат\n"
      ]
    },
    {
      "cell_type": "markdown",
      "metadata": {
        "id": "fHOx6Dnu5cEQ"
      },
      "source": [
        "Напишите функцию, которая принимает единственное число ``n: int``. Это число определяет длину стороны квадрата. Функция должна нарисовать квадрат из звездочек, при этом звездочки должны быть только на ребрах квадрата, центр должен быть выколот.\n",
        "\n",
        "**Sample Input 1:**\n",
        "\n",
        "``\n",
        "n = 5\n",
        "``\n",
        "\n",
        "**Sample Output 1:**\n",
        "```\n",
        "* * * * *\n",
        "*       *\n",
        "*       *\n",
        "*       *\n",
        "* * * * *\n",
        "\n",
        "```"
      ]
    },
    {
      "cell_type": "code",
      "execution_count": null,
      "metadata": {
        "colab": {
          "base_uri": "https://localhost:8080/"
        },
        "id": "8I_sT1l9B0FZ",
        "outputId": "63855805-451c-426e-a961-f7b74ce54a48"
      },
      "outputs": [],
      "source": [
        "# Вариант 1\n",
        "\n",
        "n = int(input())\n",
        "def empty_square (n: int) -> str:\n",
        "    \"\"\" Draw empry square\n",
        "\n",
        "    На вход подается число n, определяющее длину\n",
        "    стороны квадрата. Задача функции нарисовать \n",
        "    квадрат из символов \"*\" с пустотой внутри\n",
        "    : param n: int(n) - длина стороны квадрата\n",
        "    : return empty square: возвращает нарисованный\n",
        "    квадрат, сама функция ничего не возвращает.\n",
        "    \"\"\"\n",
        "    for i in range(n):\n",
        "        print()\n",
        "        if i == 0 or i == n-1:\n",
        "            for j in range(n):\n",
        "                print(\"*\", end=\" \")\n",
        "        else:\n",
        "            for j in range(n):\n",
        "                if j == 0 or j == n-1:\n",
        "                    print('*', end=\" \")\n",
        "                else:\n",
        "                    print(\" \",end=\" \")\n",
        "    \n",
        "empty_square(n)"
      ]
    },
    {
      "cell_type": "markdown",
      "metadata": {
        "id": "8oZaq3fE6f79"
      },
      "source": [
        "#Пермутации"
      ]
    },
    {
      "cell_type": "markdown",
      "metadata": {
        "id": "ylJnUpIk6jrX"
      },
      "source": [
        "Вам дан массив с целыми числами ``nums``. Напишите функцию, которая принимает на вход данный массив и возвращает все возможные пермутации с данными числами. Возвращать массивы можно в любом порядке.\n",
        "\n",
        "**Sample Input 1:**\n",
        "\n",
        "``\n",
        "nums = [1,2,3]\n",
        "``\n",
        "\n",
        "**Sample Output 1:**\n",
        "\n",
        "``[[1,2,3],[1,3,2],[2,1,3],[2,3,1],[3,1,2],[3,2,1]]``\n",
        "\n",
        "**Sample Input 2:**\n",
        "\n",
        "``\n",
        "nums = [0,1]\n",
        "``\n",
        "\n",
        "**Sample Output 2:**\n",
        "\n",
        "``[[0,1],[1,0]]``\n",
        "\n",
        "**Sample Input 3:**\n",
        "\n",
        "``\n",
        "nums = [1]\n",
        "``\n",
        "\n",
        "**Sample Output 3:**\n",
        "\n",
        "``[[1]]``"
      ]
    },
    {
      "cell_type": "code",
      "execution_count": null,
      "metadata": {
        "colab": {
          "base_uri": "https://localhost:8080/"
        },
        "id": "AzhJABzn7GYR",
        "outputId": "47a75d23-a8d9-47c5-d844-ffb46df5b0c1"
      },
      "outputs": [],
      "source": [
        "# Вариант 1\n",
        "import itertools\n",
        "import numpy as np\n",
        "from typing import List\n",
        "nums = [1,2,3]\n",
        "def permutations(nums: List) -> List:\n",
        "  \"\"\"\n",
        "  Задача функции просчитать все возможные перестановки \n",
        "  входного массива и вернуть их в любой последовательности\n",
        "  :param nums: на вход подается массив nums\n",
        "  :return n: возращаем массив со всеми возможными перестановками\n",
        "  \"\"\"\n",
        "  \n",
        "  n = np.array(list(itertools.permutations(nums, len(nums))))\n",
        "  return n\n",
        "  \n",
        "permutations(nums)"
      ]
    },
    {
      "cell_type": "markdown",
      "metadata": {
        "id": "MDEu6tZQYATy"
      },
      "source": [
        "### Почти двойной факториал\n",
        "Дано натуральное $N \\leqslant 100$.  Выведите произведение всех чётных натуральных чисел, не превосходящих $N$."
      ]
    },
    {
      "cell_type": "code",
      "execution_count": null,
      "metadata": {
        "colab": {
          "base_uri": "https://localhost:8080/",
          "height": 315
        },
        "id": "fjCKZc4Q6aId",
        "outputId": "90bf980c-0912-4220-cf21-d745be7081e5"
      },
      "outputs": [],
      "source": [
        "# Проверить через степпик\n",
        "N = 25\n",
        "n =[int(i) for i in range(1, N+1) if i % 2 == 0]\n",
        "\n",
        "def almost_double_factorial(n: List) -> int:\n",
        "  \"\"\"\n",
        "  Функция предназначена для произведения всех четных натуральных чисел\n",
        "  (условимся,что 0 не является натуральным числом), не превосходящих N.\n",
        "  :param n: список всех четных натуральных чисел от 1 до N(включительно)\n",
        "  :return resusltat: число - произведение этих чисел.\n",
        "  *Функция на основе рекурсии, при больших значениях N потребуется\n",
        "  увеличить глубину рекурсии\n",
        "  \"\"\"\n",
        "  \n",
        "  if len(n) == 0: return 1\n",
        "  resultat = n[0] * almost_double_factorial(n[1:])\n",
        "  return resultat\n",
        "\n",
        "\n",
        "N_double_fact = almost_double_factorial(n)\n",
        "print(N_double_fact)"
      ]
    },
    {
      "cell_type": "code",
      "execution_count": null,
      "metadata": {
        "colab": {
          "base_uri": "https://localhost:8080/",
          "height": 351
        },
        "id": "5GgcNVy1YAT0",
        "outputId": "3d0859f9-17a5-4bac-c05d-e6b27967b368"
      },
      "outputs": [],
      "source": [
        "N = 25\n",
        "n = [int(i) for i in range(1,N+1) if i % 2 == 0]\n",
        "\n",
        "N_double_fact = almost_double_factorial(n)\n",
        "\n",
        "assert N_double_fact == 1961990553600, \"Something is wrong! Please try again\"\n"
      ]
    },
    {
      "cell_type": "code",
      "execution_count": null,
      "metadata": {},
      "outputs": [],
      "source": [
        "N = 100\n",
        "n = [int(i) for i in range(1,N+1) if i % 2 == 0]\n",
        "N_double_fact = almost_double_factorial(n)\n",
        "assert N_double_fact == 34243224702511976248246432895208185975118675053719198827915654463488000000000000, \"Something is wrong! Please try again\""
      ]
    },
    {
      "cell_type": "markdown",
      "metadata": {
        "id": "A57_204nYAT3"
      },
      "source": [
        "### Хитрая сортировка\n",
        "\n",
        "Пусть у нас есть следующий список, в котором элементы -- tuple из строк:\n",
        "\n",
        "``items = [('one', 'two'), ('three', 'four'), ('five', 'six'), ('string', 'a')]``\n",
        "\n",
        "Мы хотим отсортировать этот список по последней букве второго элемента каждого ``tuple``, т.е. получить такой список:\n",
        "\n",
        "``sorted_items = [('string', 'a'), ('one', 'two'), ('three', 'four'), ('five', 'six')]``.\n",
        "Что нужно вставить вместо \"###\" в следующем выражении, чтобы получить сортировку?\n",
        "\n",
        "``sorted_items = sorted(items, key=lambda x: ###)``"
      ]
    },
    {
      "cell_type": "code",
      "execution_count": null,
      "metadata": {
        "id": "SnIk7m_8YAT4"
      },
      "outputs": [],
      "source": [
        "items = [('one', 'two'), ('three', 'four'), ('five', 'six'), ('string', 'a')]\n",
        "\n",
        "sorted_items = sorted(items, key = lambda x: x[1][-1])\n",
        "print(sorted_items)\n",
        "                      \n",
        "assert sorted_items == [('string', 'a'), ('one', 'two'), ('three', 'four'), ('five', 'six')], \\\n",
        "\"Something is wrong! Please try again\""
      ]
    },
    {
      "cell_type": "markdown",
      "metadata": {
        "id": "f_ggknIxYAT7"
      },
      "source": [
        "### Еще строки\n",
        "\n",
        "Вашей программе на вход подаются три строки ``s, a, b``, состоящие из строчных латинских букв.\n",
        "За одну операцию вы можете заменить все вхождения строки ``a`` в строку ``s`` на строку ``b``.\n",
        "\n",
        "Например, ``s = \"abab\", a = \"ab\", b = \"ba\"``, тогда после выполнения одной операции строка ``s`` перейдет в строку ``\"baba\"``, после выполнения двух и операций – в строку ``\"bbaa\"``, и дальнейшие операции не будут изменять строку ``s``.\n",
        "\n",
        "Необходимо узнать, после какого минимального количества операций в строке ``s`` не останется вхождений строки ``a``. Если операций потребуется более 1000, выведите ``Impossible``.\n",
        "\n",
        "Выведите одно число – минимальное число операций, после применения которых в строке ``s`` не останется вхождений строки ``a``, или ``Impossible``, если операций потребуется более 1000.\n",
        "\n",
        "**Sample Input 1:**\n",
        "\n",
        "``\n",
        "ababa\n",
        "a\n",
        "b\n",
        "``\n",
        "\n",
        "**Sample Output 1:**\n",
        "\n",
        "``1``\n",
        "\n",
        "**Sample Input 2:**\n",
        "\n",
        "``ababa\n",
        "b\n",
        "a``\n",
        "\n",
        "**Sample Output 2:**\n",
        "\n",
        "``1``\n",
        "\n",
        "**Sample Input 3:**\n",
        "\n",
        "``ababa\n",
        "c\n",
        "c``\n",
        "\n",
        "**Sample Output 3:**\n",
        "\n",
        "``0``\n",
        "\n",
        "**Sample Input 4:**\n",
        "\n",
        "``ababac\n",
        "c\n",
        "c``\n",
        "\n",
        "**Sample Output 4:**\n",
        "\n",
        "``Impossible``\n"
      ]
    },
    {
      "cell_type": "code",
      "execution_count": null,
      "metadata": {
        "id": "JcLMmkF6YAT8"
      },
      "outputs": [],
      "source": [
        "s,a,b = input().split()\n",
        "def my_func(s: str, a: str, b:str) -> int:\n",
        "    \"\"\" Minimum number of operations\n",
        "    Функция подсчитывает вхождения количество вхождения строки а\n",
        "    в строку s(если такие вхождения воообще есть), и заменяет все \n",
        "    вхождения на строку b. Подсчитывает количество необходимых\n",
        "    операций и выводит их в результат в виде числа.\n",
        "    :param s,a,b: подаваевые строки\n",
        "    :cnt: счетчик количества операций\n",
        "    \"\"\"\n",
        "\n",
        "    cnt = 0\n",
        "    while a in s:\n",
        "        count = s.count(a)\n",
        "        s = s.replace(a, b, count)\n",
        "        cnt += 1\n",
        "        if cnt > 1000: return \"Impossible\"\n",
        "    return cnt\n",
        "\n",
        "my_func(s, a, b)"
      ]
    },
    {
      "cell_type": "markdown",
      "metadata": {
        "id": "3QOrzr1_YAT_"
      },
      "source": [
        "### Создание массивов\n",
        "Дан массив $A[0,\\ldots,N-1]$. Напишите функцию, принимающую один обязательный аргумент A и один опциональный аргумент ``erase``, по умолчанию равный 1. Возвратите массив $B[0,\\ldots, N-1]$, где $B_i = A_0 + \\ldots + A_{i}$ --- массив частичных сумм массива $A$, предварительно удалив из массива $B$ все элементы, равные erase. Постарайтесь сделать это за линейное время без использования Numpy."
      ]
    },
    {
      "cell_type": "code",
      "execution_count": null,
      "metadata": {
        "id": "GSeVXF-xYAUA"
      },
      "outputs": [],
      "source": [
        "def cumsum_and_erase(A: List, erase = 1) ->List:\n",
        "    \"\"\" \n",
        "    Функция, принимающая массив А, на основе которого создается\n",
        "    массив В. Каждый новый элемент массива В состоит из сумм\n",
        "    массива А(например эл.В2 = сумме А0+А1+А2). Затем из массива \n",
        "    В фильтруются все элементы, равные опциональному значению earse.\n",
        "    : param A: входящий список(массив) чисел\n",
        "    : return B: новый массив, созданный из частичных сумма массива А,\n",
        "    предварительно обработанный\n",
        "    \"\"\"\n",
        "    \n",
        "    B =[]\n",
        "    for i in range(len(A)):\n",
        "        B.append(sum(A[:i+1]))\n",
        "    B = list(filter(lambda x: x!=erase, B))\n",
        "    return B\n",
        "\n",
        "A = [5, 1, 4, 5, 14]\n",
        "B = cumsum_and_erase(A, erase=10)\n",
        "\n",
        "assert B == [5, 6, 15, 29], \"Something is wrong! Please try again\""
      ]
    },
    {
      "cell_type": "markdown",
      "metadata": {
        "id": "xvOBFjavYAUD"
      },
      "source": [
        "### Обработка текста\n",
        "Дан список текстов, слова в которых разделены пробелами (можно считать, что знаков препинания нет). Часть слов является \"мусорными\": в них присутствуют цифры и спецсимволы. Отфильтруйте такие слова из каждого текста. Используйте функции ``str.split``, ``str.isalpha``, ``str.join``, а также [генератор filter](http://pythonicway.com/python-functinal-programming)."
      ]
    },
    {
      "cell_type": "code",
      "execution_count": null,
      "metadata": {
        "id": "GBzS-UHZYAUE"
      },
      "outputs": [],
      "source": [
        "\n",
        "sentences = ['1 thousand devils', 'My name is 9Pasha', 'Room #125 costs $100']\n",
        "def process(sentences: List) -> List:\n",
        "    \"\"\"\n",
        "    Функция для обработки текста и удаления цифр и спецсимволов\n",
        "    во входящем списке строк.\n",
        "    :param sentences: входящий список строк\n",
        "    :return resultat: обработанный список строк\n",
        "    \"\"\"\n",
        "\n",
        "    resultat = []\n",
        "    for str in sentences:\n",
        "        str =str.split()\n",
        "        resultat.append(' '.join(filter(lambda x: x.isalpha(), str)))\n",
        "    return resultat\n",
        "\n",
        "print(process(sentences))\n",
        "\n",
        "assert process(sentences) == ['thousand devils', 'My name is', 'Room costs'], \\\n",
        "\"Something is wrong! Please try again\""
      ]
    },
    {
      "cell_type": "markdown",
      "metadata": {
        "id": "lNCcTYSRow1j"
      },
      "source": [
        "#Расстояние Хэмминга"
      ]
    },
    {
      "cell_type": "markdown",
      "metadata": {
        "id": "8jfcOp6ckl30"
      },
      "source": [
        "Вам даны две строки, ``a`` и ``b`` одинаковой длины. Необходимо посчитать расстояние Хэмминга между ними, которое определяется как количество символов, которые не совпадают между двумя строками в одинаковой позиции.\n",
        "\n",
        "**Sample Input 1:**\n",
        "\n",
        "```\n",
        "a = 'AGCT'\n",
        "b = 'ACGT'\n",
        "hamming(a, b)\n",
        "```\n",
        "\n",
        "**Sample Output 1:**\n",
        "\n",
        "``2``"
      ]
    },
    {
      "cell_type": "code",
      "execution_count": null,
      "metadata": {
        "id": "d_IYhoPcg3Ru"
      },
      "outputs": [],
      "source": [
        "def hamming(a: str, b: str) -> int:\n",
        "    \"\"\"\n",
        "    Функция рассчитывает расстояние Хэмминга между двумя\n",
        "    одинаковыми строками(количество символов, не совподяющих\n",
        "    между двумя строками в одинаковой позиции)\n",
        "    :param a, b: принимает заданные строки\n",
        "    :cnt: счетчик количества отличных символов в одной позиции\n",
        "    \"\"\"\n",
        "    cnt = 0 \n",
        "    for k, v in zip(a, b):\n",
        "        if k != v:\n",
        "            cnt += 1\n",
        "    return cnt\n",
        "a = input()\n",
        "b = input()\n",
        "hamming(a, b)\n",
        "#assert hamming(\"AGCT\", \"ACGT\") == 2"
      ]
    },
    {
      "cell_type": "markdown",
      "metadata": {
        "id": "iA7EQgga9OB-"
      },
      "source": [
        "### Numpy"
      ]
    },
    {
      "cell_type": "code",
      "execution_count": 53,
      "metadata": {
        "id": "HEFAaMjP9CRh"
      },
      "outputs": [],
      "source": [
        "import numpy as np\n",
        "import random\n",
        "import scipy.stats as sps"
      ]
    },
    {
      "cell_type": "markdown",
      "metadata": {
        "id": "6Bul4Uue9Ww9"
      },
      "source": [
        "### Задание 1\n",
        "В первой задаче вам предлагается перемножить две квадратные матрицы двумя способами -- без использования пакета ***numpy*** и с ним."
      ]
    },
    {
      "cell_type": "code",
      "execution_count": 54,
      "metadata": {
        "id": "ClrydYj59XPc"
      },
      "outputs": [
        {
          "name": "stdout",
          "output_type": "stream",
          "text": [
            "2\n",
            "2\n",
            "(100, 100)\n",
            "(100, 100)\n",
            "[[0.47203233 0.94162188 0.34465046 ... 0.76234368 0.00494231 0.57442246]\n",
            " [0.98006472 0.51639486 0.03818667 ... 0.54829542 0.46507182 0.3333029 ]\n",
            " [0.22481212 0.93273778 0.71448734 ... 0.2715226  0.41603498 0.98403881]\n",
            " ...\n",
            " [0.86120193 0.18766586 0.65228683 ... 0.72228647 0.63905797 0.02086408]\n",
            " [0.12988386 0.79441531 0.1145861  ... 0.8892844  0.72718047 0.74091482]\n",
            " [0.99643514 0.5509301  0.19782942 ... 0.5730754  0.36132215 0.89051582]]\n",
            "[[0.19952915 0.82336975 0.73183072 ... 0.81478937 0.82047808 0.39739615]\n",
            " [0.00871062 0.52622508 0.13498145 ... 0.9826063  0.32898227 0.73926609]\n",
            " [0.90787311 0.28077148 0.24085341 ... 0.90844151 0.7751742  0.57806437]\n",
            " ...\n",
            " [0.13169822 0.17495655 0.15089392 ... 0.35539509 0.22742852 0.21504147]\n",
            " [0.42757869 0.15404477 0.63532122 ... 0.44279046 0.01497825 0.76338999]\n",
            " [0.49891919 0.30215997 0.27413889 ... 0.05667837 0.74488699 0.47894286]]\n"
          ]
        }
      ],
      "source": [
        "# Для генерации матриц используем фукнцию random -- она используется для генерации случайных объектов \n",
        "# функция sample создает случайную выборку. В качестве аргумента ей передается кортеж (i,j),  \n",
        "# здесь i -- число строк, j -- число столбцов.\n",
        "\n",
        "a = np.random.sample((100, 100))\n",
        "b = np.random.sample((100, 100))\n",
        "\n",
        "# Выведите размерность (ранг) каждой матрицы с помощью функции ndim\n",
        "\n",
        "print(np.ndim(a))\n",
        "#2\n",
        "print(np.ndim(b))\n",
        "#2\n",
        "\n",
        "# Используйте функцию shape, что она вывела? - Кортеж из количества строк и столбцов\n",
        "print(np.shape(a))\n",
        "# (100, 100)\n",
        "print(np.shape(b))\n",
        "# (100, 100)\n",
        "\n",
        "\n",
        "# ========\n",
        "# Ваш код здесь\n",
        "# ========\n",
        "print(a)\n",
        "print(b)"
      ]
    },
    {
      "cell_type": "markdown",
      "metadata": {},
      "source": [
        "Не знаю насколько разрешено было создавать базовые матрицы с помощью функций \"с = np.ones\" используя выражение \"b = np.transpose(b)\", но наверное, тут преследовались другие цели (перемножение матриц по векторам), которые в задачи отражены. "
      ]
    },
    {
      "cell_type": "code",
      "execution_count": 55,
      "metadata": {},
      "outputs": [
        {
          "data": {
            "text/plain": [
              "array([[26.73748323, 26.05861816, 25.77840943, ..., 28.72577548,\n",
              "        25.98652909, 24.84094308],\n",
              "       [27.32849743, 27.05035042, 26.57848287, ..., 29.28141737,\n",
              "        27.96153094, 24.13292372],\n",
              "       [28.84109754, 25.68748807, 27.97634173, ..., 29.64786132,\n",
              "        28.79274393, 26.02374828],\n",
              "       ...,\n",
              "       [25.73593841, 25.46664164, 25.4800441 , ..., 28.53869356,\n",
              "        26.61046719, 22.86246997],\n",
              "       [27.7616801 , 25.85218031, 25.73805412, ..., 29.23411508,\n",
              "        25.37241169, 25.23589787],\n",
              "       [23.80710754, 23.68665557, 25.16037223, ..., 28.60156516,\n",
              "        26.58089616, 23.19441518]])"
            ]
          },
          "execution_count": 55,
          "metadata": {},
          "output_type": "execute_result"
        }
      ],
      "source": [
        "# Вариант 1 - умножение на транспонированную матрицу\n",
        "def mult(a, b):\n",
        "    \"\"\"  \n",
        "    a: list of \"size\" lists, each contains \"size\" floats --- первая матрица-аргумент\n",
        "    b: list of \"size\" lists, each contains \"size\" floats --- вторая матрица-аргумент\n",
        "    return c: list of \"size\" lists, each contains \"size\" floats --- матрица, являющаяся результатом умножения матриц a и b\n",
        "    \n",
        "    Функция принимает на вход две матрицы: a и b размерностью size x size\n",
        "    Возвращает матрицу их произведения a * b = c \n",
        "    :def transpose: чтобы эффективно перемножить через zip транспонируем матрицу b\n",
        "    :def umn_vec: перемножаем векторы матриц построчно\n",
        "    :param c: новая матрица, итоговым размером size x size(зависит от матриц а и b) \n",
        "    \"\"\"\n",
        "    def umn_vec(vec_1, vec_2):\n",
        "        \"\"\"Сумма перемноженных элементов векторов\"\"\"\n",
        "        return sum((x*y) for x,y in zip(vec_1, vec_2))\n",
        "    def transpose(b):\n",
        "        \"\"\"Транспонирование матрицы b\"\"\"\n",
        "        trans_b = [[0 for j in range(len(b[0:][0]))] for i in range(len(b[0][0:]))]\n",
        "        return trans_b\n",
        "\n",
        "    b = np.transpose(b)\n",
        "    shape_c = (len(a[0:][0]),len(b[0][0:])) # размер новой матрицы\n",
        "    c = np.zeros(shape_c)\n",
        "    N = len(a[0][0:])\n",
        "    for i in range(N):\n",
        "        for j in range(N):\n",
        "            vec_1 = a[i][0:]\n",
        "            vec_2 = b[j][0:]\n",
        "            c[i][j] = umn_vec(vec_1, vec_2)\n",
        "    return c\n",
        "mult(a,b)"
      ]
    },
    {
      "cell_type": "code",
      "execution_count": 56,
      "metadata": {
        "id": "ul0QaXni9cAq"
      },
      "outputs": [
        {
          "data": {
            "text/plain": [
              "array([[26.73748323, 26.05861816, 25.77840943, ..., 28.72577548,\n",
              "        25.98652909, 24.84094308],\n",
              "       [27.32849743, 27.05035042, 26.57848287, ..., 29.28141737,\n",
              "        27.96153094, 24.13292372],\n",
              "       [28.84109754, 25.68748807, 27.97634173, ..., 29.64786132,\n",
              "        28.79274393, 26.02374828],\n",
              "       ...,\n",
              "       [25.73593841, 25.46664164, 25.4800441 , ..., 28.53869356,\n",
              "        26.61046719, 22.86246997],\n",
              "       [27.7616801 , 25.85218031, 25.73805412, ..., 29.23411508,\n",
              "        25.37241169, 25.23589787],\n",
              "       [23.80710754, 23.68665557, 25.16037223, ..., 28.60156516,\n",
              "        26.58089616, 23.19441518]])"
            ]
          },
          "execution_count": 56,
          "metadata": {},
          "output_type": "execute_result"
        }
      ],
      "source": [
        "def np_mult(a, b):\n",
        "    \"\"\"  \n",
        "    a: np.array[size, size]             --- первая матрица-аргумент\n",
        "    b: np.array[size, size] --- вторая матрица-аргумент\n",
        "    return c: np.array[size, size]       --- матрица, являющаяся результатом умножения матриц a и b\n",
        "    \n",
        "    Функция принимает на вход две матрицы: a и b размерностью size x size\n",
        "    Возвращает матрицу их произведения a * b = c \n",
        "\n",
        "    Реализуйте умножение матриц, используя функции из пакета numpy\n",
        "    \"\"\"\n",
        "    c = np.matmul(a,b)\n",
        "    return c\n",
        "np_mult(a,b)"
      ]
    },
    {
      "cell_type": "code",
      "execution_count": 61,
      "metadata": {
        "id": "gFdt-Kbe9gWi"
      },
      "outputs": [
        {
          "name": "stdout",
          "output_type": "stream",
          "text": [
            "CPU times: total: 422 ms\n",
            "Wall time: 584 ms\n"
          ]
        }
      ],
      "source": [
        "%%time\n",
        "# засечем время работы функции без NumPy\n",
        "M1 = mult(a, b)"
      ]
    },
    {
      "cell_type": "code",
      "execution_count": 60,
      "metadata": {
        "id": "F5QOtMj19h4n"
      },
      "outputs": [
        {
          "name": "stdout",
          "output_type": "stream",
          "text": [
            "CPU times: total: 0 ns\n",
            "Wall time: 1 ms\n"
          ]
        }
      ],
      "source": [
        "%%time\n",
        "# засечем время работы функции с NumPy\n",
        "M2 = np_mult(a, b)"
      ]
    },
    {
      "cell_type": "code",
      "execution_count": 62,
      "metadata": {
        "id": "BTDTjNjk9i3s"
      },
      "outputs": [],
      "source": [
        "# проверим корректность\n",
        "assert np.allclose(np.array(M1), M2)"
      ]
    }
  ],
  "metadata": {
    "colab": {
      "collapsed_sections": [],
      "provenance": []
    },
    "kernelspec": {
      "display_name": "Python 3.9.10 64-bit (system)",
      "language": "python",
      "name": "python3"
    },
    "language_info": {
      "codemirror_mode": {
        "name": "ipython",
        "version": 3
      },
      "file_extension": ".py",
      "mimetype": "text/x-python",
      "name": "python",
      "nbconvert_exporter": "python",
      "pygments_lexer": "ipython3",
      "version": "3.9.10"
    },
    "vscode": {
      "interpreter": {
        "hash": "7da2c949b1fa370954283c909d7d969c47b73a197d398a318c96ee81e8a2fa8d"
      }
    }
  },
  "nbformat": 4,
  "nbformat_minor": 0
}
