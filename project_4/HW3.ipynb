{
 "cells": [
  {
   "cell_type": "markdown",
   "id": "40e0ed0d-50b8-4e8d-9609-b73dab4172e5",
   "metadata": {},
   "source": [
    "# Разогрев"
   ]
  },
  {
   "cell_type": "markdown",
   "id": "74094422-038c-48f2-ae6e-96897c473b4c",
   "metadata": {},
   "source": [
    "## Задание 1"
   ]
  },
  {
   "cell_type": "markdown",
   "id": "4d598c4c-9fa7-4cce-a972-352008b78691",
   "metadata": {},
   "source": [
    "Иногда, когда нужно создавать много однотипных лямбда функций, еще удобнее будет создать функцию, которая будет их генерировать.\n",
    "\n",
    "Реализуйте функцию ``mod_checker(x, mod=0)``, которая будет **возвращать лямбда функцию** от одного аргумента ``y``, которая будет возвращать ``True``, если остаток от деления ``y`` на ``x`` равен ``mod``, и ``False`` иначе.\n",
    "\n",
    "Если в ``return`` вашей функции написано выражение, отличное от лямбда функции - задание считается проваленным\n",
    "\n",
    "**Sample:**\n",
    "\n",
    "```python\n",
    "mod_3 = mod_checker(3)\n",
    "\n",
    "print(mod_3(3)) # True\n",
    "print(mod_3(4)) # False\n",
    "\n",
    "mod_3_1 = mod_checker(3, 1)\n",
    "print(mod_3_1(4)) # True\n",
    "```"
   ]
  },
  {
   "cell_type": "code",
   "execution_count": null,
   "id": "113b22cc-5ce8-42b5-a733-89a7411c780f",
   "metadata": {},
   "outputs": [],
   "source": [
    "def mod_checker(x: int, mod =0) -> bool:\n",
    "    \"\"\"Return bool if y%x == mod\"\"\"\n",
    "    return lambda y: y % x == mod"
   ]
  },
  {
   "cell_type": "markdown",
   "id": "d46cfa4e-1517-4444-a31b-b39f96beca3e",
   "metadata": {},
   "source": [
    "# Numpy"
   ]
  },
  {
   "cell_type": "code",
   "execution_count": 27,
   "id": "bec93b3e-f079-4e70-914f-6b19862fc68b",
   "metadata": {},
   "outputs": [],
   "source": [
    "import numpy as np"
   ]
  },
  {
   "cell_type": "markdown",
   "id": "e065e248-1900-4a4a-8c52-590ef71980b2",
   "metadata": {},
   "source": [
    "## Задание 2\n",
    "Напишите функцию, которая принимает один аргумент - ``n``. Функция должна создать нампаевскую матрицу размером ``(n, n)`` и залить ее шахматным узором. Порядок узора не имеет значения, важен общий паттерн.\n",
    "\n",
    "**Sample:**\n",
    "```python\n",
    "chess_maze(8)\n",
    "\n",
    "[[0 1 0 1 0 1 0 1]\n",
    " [1 0 1 0 1 0 1 0]\n",
    " [0 1 0 1 0 1 0 1]\n",
    " [1 0 1 0 1 0 1 0]\n",
    " [0 1 0 1 0 1 0 1]\n",
    " [1 0 1 0 1 0 1 0]\n",
    " [0 1 0 1 0 1 0 1]\n",
    " [1 0 1 0 1 0 1 0]]\n",
    "```\n",
    "\n"
   ]
  },
  {
   "cell_type": "code",
   "execution_count": null,
   "id": "12de4c2f-9de4-4a57-8e68-27f8125ca7e9",
   "metadata": {},
   "outputs": [],
   "source": [
    "\n",
    "def chess_maze(n: int) -> np.array:\n",
    "    \"\"\"\n",
    "    Функция принимает числоа n и строит матрицу(np.array) размером (n x n) и заливает\n",
    "    ее шахматным узором.\n",
    "    :param n: число вводимое для размера матрицы\n",
    "    :return chess_board: матрицы размеров (n x n) с шахматным узором\n",
    "    \"\"\"\n",
    "\n",
    "    chess_board = np.zeros((n,n),dtype=int)\n",
    "    chess_board[::2,1::2] = 1\n",
    "    chess_board[1::2,::2] = 1\n",
    "    return chess_board\n",
    "\n",
    "\n",
    "chess_maze(7)"
   ]
  },
  {
   "cell_type": "markdown",
   "id": "ff71edfc-ecba-48b9-ab5e-db17021e7b30",
   "metadata": {},
   "source": [
    "## Задание 3\n",
    "Напишите функцию, которая принимает 2 аргумента ``arr`` и ``exclude_values``. ``arr`` - это одномерный нампаевский массив, в котором необходимо поменять знак всем числам (инвертировать), которые есть в массиве ``exclude_values``. Действия необходимо делать прямо в исходном массиве, не создавая копий.\n",
    "\n",
    "**Sample:**\n",
    "```python\n",
    "#Исходный вектор \n",
    "arr = np.arange(10+1)\n",
    "exclude_values = np.arange(4, 8)\n",
    " \n",
    "my_func(arr, exclude_values)\n",
    "array([ 0  1  2  3 -4 -5 -6 -7  8  9 10])\n",
    "```"
   ]
  },
  {
   "cell_type": "code",
   "execution_count": null,
   "id": "28e738e2-a873-4e3d-bdd0-222506090674",
   "metadata": {},
   "outputs": [],
   "source": [
    "# Option 1\n",
    "arr = np.arange(100+1)\n",
    "exclude_values = np.arange(10, 28)\n",
    "def reverse_module(arr: np.array, exclude_values: np.array):\n",
    "    \"\"\" \n",
    "    Функция для замены знака всем числам из массива arr, которые \n",
    "    встречаются в массиве exclude_values\n",
    "    :param arr: исходный массив\n",
    "    :param exclude_values: массив для нахождения чисел\n",
    "    \"\"\"\n",
    "    for x in arr:\n",
    "        if x in exclude_values:\n",
    "            arr[x] = -abs(arr[x])\n",
    "    return arr\n",
    "    \n",
    "reverse_module(arr, exclude_values)\n"
   ]
  },
  {
   "cell_type": "code",
   "execution_count": null,
   "id": "648ffe50",
   "metadata": {},
   "outputs": [],
   "source": []
  },
  {
   "cell_type": "markdown",
   "id": "50fd92a7-30b5-42a1-aed4-a222132496cd",
   "metadata": {},
   "source": [
    "## Задание 4\n",
    "Напишите функцию, которая принимает одномерный положительный нампаевский массив и минимум 4 раза выводит на экран (функция ``print``) этот же массив, в котором у элементов оставлена только целая часть. Все >= 4 раза функция должна использовать разные методы для извлечения целой части.\n",
    "\n",
    "**Sample:**\n",
    "```python\n",
    "#Исходный вектор \n",
    "arr = np.random.uniform(low=10, high=100,size=20)\n",
    "#Исходный вектор arr:\n",
    "arr\n",
    "[99.54707368 49.26237526 80.50565073 10.10998238 16.39378916 60.64633657\n",
    " 25.49637622 31.06574268 94.48636127 73.41204506 75.70638137 70.43830146\n",
    " 72.28607422 40.59319738 57.85802554 35.39428061 55.25707514 48.00020145\n",
    " 38.39449991 26.19085017]\n",
    " \n",
    "my_func(arr)\n",
    "\n",
    "[99. 49. 80. 10. 16. 60. 25. 31. 94. 73. 75. 70. 72. 40. 57. 35. 55. 48.\n",
    " 38. 26.]\n",
    "[99. 49. 80. 10. 16. 60. 25. 31. 94. 73. 75. 70. 72. 40. 57. 35. 55. 48.\n",
    " 38. 26.]\n",
    "[99. 49. 80. 10. 16. 60. 25. 31. 94. 73. 75. 70. 72. 40. 57. 35. 55. 48.\n",
    " 38. 26.]\n",
    "[99 49 80 10 16 60 25 31 94 73 75 70 72 40 57 35 55 48 38 26]\n",
    "[99. 49. 80. 10. 16. 60. 25. 31. 94. 73. 75. 70. 72. 40. 57. 35. 55. 48.\n",
    " 38. 26.]\n",
    "```\n",
    "\n",
    "В примере 5 выводов print из функции, просто чтобы были :)"
   ]
  },
  {
   "cell_type": "code",
   "execution_count": null,
   "id": "55d6a9f9",
   "metadata": {},
   "outputs": [],
   "source": []
  },
  {
   "cell_type": "code",
   "execution_count": 304,
   "id": "d988e6d5-1e23-411c-a2d0-f5b9f5960b47",
   "metadata": {},
   "outputs": [
    {
     "name": "stdout",
     "output_type": "stream",
     "text": [
      "[50 36 92 51 94 95 89 26 56 39 96 83 80 63 79 39 13 63 71 23]\n",
      "[49 35 92 50 94 94 89 26 56 39 96 82 80 63 78 39 13 62 70 22]\n",
      "[49. 35. 92. 50. 94. 94. 89. 26. 56. 39. 96. 82. 80. 63. 78. 39. 13. 62.\n",
      " 70. 22.]\n",
      "[49. 35. 92. 50. 94. 94. 89. 26. 56. 39. 96. 82. 80. 63. 78. 39. 13. 62.\n",
      " 70. 22.]\n"
     ]
    }
   ],
   "source": [
    "def my_func(arr: np.array) -> np.array:\n",
    "    \"\"\"\n",
    "    Функция в исходном массиве оставляет только целую часть элемента,\n",
    "    и выводит новый массив четырьмя разными способами\n",
    "    :param arr: исходный массив рандомный\n",
    "    :arr1: функция на основе округления каждого элемента через \n",
    "    lambda  функция\n",
    "    :arr2: приведение массива к типу данных int\n",
    "    :arr3: метод trunc, отбрасывающий остаток\n",
    "    :arr4: поэлементное приведение через цикл for\n",
    "    \"\"\"\n",
    "    \n",
    "    arr1 = list(map(lambda x: round(x), arr))\n",
    "    arr1 = np.array([arr1])\n",
    "    print(*arr1)\n",
    "    arr2 = np.int8(arr)\n",
    "    print(arr2)\n",
    "    arr3 = np.trunc(arr)\n",
    "    print(arr3)\n",
    "    for i, elem in enumerate(arr):\n",
    "        arr[i] = int(elem)\n",
    "    print(arr)\n",
    "arr = np.random.uniform(low=10, high=100,size=20)\n",
    "my_func(arr)"
   ]
  },
  {
   "cell_type": "markdown",
   "id": "e19786ad-aede-4f06-96b8-fb6f60e7bcf7",
   "metadata": {},
   "source": [
    "## Задание 5\n",
    "Напишите функцию, которая принимает два числа - ``N`` и ``p``. ``N`` - это размер стороны квадратной матрицы np.zeros, ``p`` - это количество индексов в матрице (p не превышает N*N), которые нужно заменить на случайные числа. Индексы и числа нужно выбирать случайно. Функция должна возвращать квадратную матрицу со стороной ``N``, в которой ровно ``p`` чисел заменены на случайные.\n",
    "\n",
    "```python\n",
    "my_func(N=6, p=4)\n",
    "\n",
    "[[56.   0.   0.   0.   0.   0.]\n",
    " [  0.   0.   0.   0.   0.   0.]\n",
    " [99.   0.   0.   0.   0.   0.]\n",
    " [  0.   0.   0. 83.   0.   0.]\n",
    " [  0.   0.   0.   0.   0.   0.]\n",
    " [  0.   0.   0.   0.   1.   0.]]\n",
    "```"
   ]
  },
  {
   "cell_type": "code",
   "execution_count": 308,
   "id": "8dfb8a8e",
   "metadata": {},
   "outputs": [
    {
     "data": {
      "text/plain": [
       "array([[ 0.,  0.,  0.,  0.,  0.,  0.,  0.,  0.,  0.,  0.],\n",
       "       [ 0.,  0.,  0.,  0.,  0.,  0.,  0.,  0.,  0., 92.],\n",
       "       [ 0.,  0., 93.,  0., 28., 40.,  0.,  0.,  0., 54.],\n",
       "       [ 0.,  0.,  0.,  0.,  0.,  0.,  0.,  0., 68., 95.],\n",
       "       [ 0.,  0.,  7.,  0.,  0.,  0.,  0.,  0., 87.,  0.],\n",
       "       [ 0.,  0.,  0.,  0.,  0., 92.,  0.,  0.,  0.,  0.],\n",
       "       [ 0., 23.,  0.,  0.,  0.,  0.,  0.,  0.,  0.,  0.],\n",
       "       [ 0., 87.,  0.,  0.,  0.,  0.,  0.,  0., 60.,  0.],\n",
       "       [ 0.,  0., 22.,  0.,  0.,  0.,  5.,  0.,  0.,  0.],\n",
       "       [ 0.,  0., 30.,  0.,  0.,  0.,  0.,  0., 17.,  0.]])"
      ]
     },
     "execution_count": 308,
     "metadata": {},
     "output_type": "execute_result"
    }
   ],
   "source": [
    "def my_func1(N: int, p: int) -> np.array:\n",
    "    \"\"\"\n",
    "    Функция создает пустой массив размером (N*N), в котором в случайном\n",
    "    порядке изменяет p количество индексов в массиве на случайные числа\n",
    "    :param N: размер стороны квадратной матрицы\n",
    "    :param p: количество индексов в матрице, требующих замены\n",
    "    :return matric: финальный массив\n",
    "    \"\"\"\n",
    "    if p > N*N: return \"Wrong p, input p again!\"\n",
    "    matric = np.zeros((N,N))\n",
    "    for i in range(p+1):\n",
    "        matric[np.random.randint(1,N)][np.random.randint(1,N)] = np.random.randint(1,100,1)\n",
    "    return matric\n",
    "my_func1(10, 20)"
   ]
  },
  {
   "cell_type": "markdown",
   "id": "ea6147b4-ea16-48e8-86f9-20bc90849b68",
   "metadata": {},
   "source": [
    "# Pandas"
   ]
  },
  {
   "cell_type": "code",
   "execution_count": null,
   "id": "036794bd-1340-4341-93f2-4c7eda7e011c",
   "metadata": {},
   "outputs": [],
   "source": [
    "import pandas as pd"
   ]
  },
  {
   "cell_type": "markdown",
   "id": "feed93bf-9c0e-443e-9812-f3d88f526be4",
   "metadata": {},
   "source": [
    "# Задание 6\n",
    "\n",
    "Любым удобным для вас способом создайте ``dataframe`` c именем ``my_data``, в котором две колонки c именами (``type`` - строки, ``value`` - числа с плавающей точкой) и четыре наблюдения в каждой колонке:\n",
    "\n",
    "```\n",
    "type value\n",
    "B    18.\n",
    "\n",
    "B    20.\n",
    "\n",
    "C    10.\n",
    "\n",
    "C    -10.\n",
    "```\n",
    "\n",
    "Какой размер созданного вами датафрейма? (Подумайте, что лучше использовать - информацию из метода df.info() или информацию из метода df.memory_usage()?)\n",
    "1) Измените тип данных колонки type на category. Как изменился размер датафрейма?\n",
    "2) Измените тип данных колонки value на менее жадный. Как изменился размер датафрейма?"
   ]
  },
  {
   "cell_type": "code",
   "execution_count": null,
   "id": "55453b06-c034-4ad4-9350-c9bfdeb5acef",
   "metadata": {},
   "outputs": [],
   "source": []
  },
  {
   "cell_type": "markdown",
   "id": "b5c49f07-2954-43af-89e4-2df23e216af8",
   "metadata": {},
   "source": [
    "# Задание 7\n",
    "Любым удобным для вас способом создайте ``dataframe`` c именем ``my_data``, в котором две колонки c именами (``type`` - строки, ``value`` - числа с плавающей точкой) и десять тысяч (10 000) наблюдений в каждой колонке. В колонке ``type`` должно быть 10 уникальных значений.\n",
    "\n",
    "```python\n",
    "my_data.shape\n",
    "____________\n",
    "(10000, 2)\n",
    "```\n",
    "\n",
    "Какой размер созданного вами датафрейма? (Подумайте, что лучше использовать - информацию из метода df.info() или информацию из метода df.memory_usage()?)\n",
    "1) Измените тип данных колонки type на category. Как изменился размер датафрейма?\n",
    "2) Измените тип данных колонки value на менее жадный. Как изменился размер датафрейма?\n",
    "\n",
    "Во сколько раз уменьшился размер исходного датафрейма после выполнения этих двух операций?"
   ]
  },
  {
   "cell_type": "code",
   "execution_count": null,
   "id": "7ce31b7d-7367-4c4a-b7ca-e7b837fda604",
   "metadata": {},
   "outputs": [],
   "source": []
  },
  {
   "cell_type": "markdown",
   "id": "d1614009-c31c-494c-9b7e-010b3fca3adc",
   "metadata": {},
   "source": [
    "#### Для решения дальнейших задач мы будем использовать следующий датасет, загрузите его с помощью команды:"
   ]
  },
  {
   "cell_type": "code",
   "execution_count": null,
   "id": "9de2ceb8-28bf-4f4f-a67c-5c3cf17d09e9",
   "metadata": {},
   "outputs": [],
   "source": [
    "df = pd.read_csv('https://stepik.org/media/attachments/course/4852/my_stat.csv')"
   ]
  },
  {
   "cell_type": "code",
   "execution_count": null,
   "id": "bcf8eca6-4c68-43a9-a250-7b2b0aba6a92",
   "metadata": {},
   "outputs": [],
   "source": [
    "df"
   ]
  },
  {
   "cell_type": "markdown",
   "id": "02e37431-e600-4bf5-bfcf-5641bfcaccd8",
   "metadata": {},
   "source": [
    "Примечание: все операции с исходным датафреймом должны быть ``inplace``. То есть исходный датафрейм в переменной ``df`` **должен** измениться"
   ]
  },
  {
   "cell_type": "markdown",
   "id": "25499d55-3c26-4f2e-b642-e05f94341d69",
   "metadata": {},
   "source": [
    "# Задание 8\n",
    "\n",
    "В переменную с именем subset_1 сохраните только первые 19 строк и только 1 и 3 колонку.\n",
    "\n",
    "В переменную с именем subset_2 сохраните все строки кроме 2, 3 и 18 и только 2 и 4 колонку."
   ]
  },
  {
   "cell_type": "code",
   "execution_count": null,
   "id": "0e4b85c0-946b-4d65-a2f4-9940f5149cc7",
   "metadata": {},
   "outputs": [],
   "source": [
    "subset_1 = \n",
    "subset_2 = "
   ]
  },
  {
   "cell_type": "markdown",
   "id": "57db07ab-f016-4340-880b-cd640e789407",
   "metadata": {},
   "source": [
    "# Задание 9\n",
    "\n",
    "В переменную subset_3 сохраните только те наблюдения, у которых значения переменной V1 строго больше 0, и значение переменной V3  равняется 'A'.\n",
    "\n",
    "В переменную  subset_4  сохраните только те наблюдения, у которых значения переменной V2  не равняются 10, или значения переменной V4 больше или равно 1."
   ]
  },
  {
   "cell_type": "code",
   "execution_count": null,
   "id": "a9a7558d-14f9-4a64-9b1f-9a77ab52304c",
   "metadata": {},
   "outputs": [],
   "source": [
    "subset_3 = \n",
    "subset_4 = "
   ]
  },
  {
   "cell_type": "markdown",
   "id": "002c85bb-122e-47c0-8016-64afd80ce988",
   "metadata": {},
   "source": [
    "# Задание 10\n",
    "Добавьте следующие колонки в df:\n",
    "\n",
    "1) V5 = V1 + V4\n",
    "2) V6 = **натуральный** логарифм переменной V2"
   ]
  },
  {
   "cell_type": "code",
   "execution_count": null,
   "id": "d99e49b2-3213-4a6b-9eb8-97118175d9b1",
   "metadata": {},
   "outputs": [],
   "source": []
  },
  {
   "cell_type": "markdown",
   "id": "68231357-e61c-4cd8-aa11-81cde18b856c",
   "metadata": {},
   "source": [
    "# Задание 11\n",
    "\n",
    "Переименуйте колонки в df.\n",
    "\n",
    "1) V1 -> session_value\n",
    "\n",
    "2) V2 -> group\n",
    "\n",
    "3) V3 -> time\n",
    "\n",
    "4) V4 -> n_users"
   ]
  },
  {
   "cell_type": "code",
   "execution_count": null,
   "id": "d92e15a0-8cf7-4f99-bb84-3b45b36d6c8d",
   "metadata": {},
   "outputs": [],
   "source": []
  },
  {
   "cell_type": "markdown",
   "id": "855d8eb1-d7b2-4908-a404-cfeac1dcf3c0",
   "metadata": {},
   "source": [
    "# Задание 12\n",
    "В датафрейме ``my_stat`` в колонке ``session_value`` замените все пропущенные значения на нули.\n",
    "\n",
    "В колонке ``n_users`` замените все отрицательные значения на медианное значение переменной ``n_users`` (без учета отрицательных значений, разумеется)."
   ]
  },
  {
   "cell_type": "code",
   "execution_count": null,
   "id": "aa82b450-9804-44f0-8c37-7d1247850132",
   "metadata": {},
   "outputs": [],
   "source": [
    "my_stat = pd.read_csv('https://stepik.org/media/attachments/course/4852/my_stat_1.csv')"
   ]
  },
  {
   "cell_type": "code",
   "execution_count": null,
   "id": "0ce858ba-5a46-4355-8e02-4051d1c7bf92",
   "metadata": {},
   "outputs": [],
   "source": [
    "my_stat"
   ]
  }
 ],
 "metadata": {
  "kernelspec": {
   "display_name": "Python 3.9.10 64-bit",
   "language": "python",
   "name": "python3"
  },
  "language_info": {
   "codemirror_mode": {
    "name": "ipython",
    "version": 3
   },
   "file_extension": ".py",
   "mimetype": "text/x-python",
   "name": "python",
   "nbconvert_exporter": "python",
   "pygments_lexer": "ipython3",
   "version": "3.9.10"
  },
  "vscode": {
   "interpreter": {
    "hash": "94bd8c2ea60a909169070ae558e2dc216d7fabb7ff0aed7a37043b73aa4b03a8"
   }
  }
 },
 "nbformat": 4,
 "nbformat_minor": 5
}
