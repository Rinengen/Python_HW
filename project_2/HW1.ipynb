{
  "cells": [
    {
      "cell_type": "markdown",
      "metadata": {
        "id": "7a_LLXLjCeMS"
      },
      "source": [
        "****\n",
        "**Задание 1.**\n",
        "\n",
        "Студент магистратуры обычно спит ночью XX часов и устраивает себе днем тихий час на YY минут. Определите, сколько всего студент спит в сутки (если вообще спит). Программа должна принимать значения XX и YY из стандартного потока ввода (функция input), результат надо выводить в стандартный поток вывода (функция print).\n",
        "\n",
        "\n",
        "```\n",
        "Sample Input 1:\n",
        "7\n",
        "30\n",
        "Sample Output 1:\n",
        "450\n",
        "\n",
        "Sample Input 2:\n",
        "0\n",
        "42\n",
        "Sample Output 2:\n",
        "42\n",
        "```\n"
      ]
    },
    {
      "cell_type": "code",
      "execution_count": 335,
      "metadata": {},
      "outputs": [
        {
          "ename": "ValueError",
          "evalue": "invalid literal for int() with base 10: ''",
          "output_type": "error",
          "traceback": [
            "\u001b[1;31m---------------------------------------------------------------------------\u001b[0m",
            "\u001b[1;31mValueError\u001b[0m                                Traceback (most recent call last)",
            "\u001b[1;32mc:\\Users\\Дежурный врач\\Desktop\\Курс DS\\IDE\\project_2\\HW1.ipynb Ячейка 2\u001b[0m in \u001b[0;36m<cell line: 2>\u001b[1;34m()\u001b[0m\n\u001b[0;32m      <a href='vscode-notebook-cell:/c%3A/Users/%D0%94%D0%B5%D0%B6%D1%83%D1%80%D0%BD%D1%8B%D0%B9%20%D0%B2%D1%80%D0%B0%D1%87/Desktop/%D0%9A%D1%83%D1%80%D1%81%20DS/IDE/project_2/HW1.ipynb#W1sZmlsZQ%3D%3D?line=0'>1</a>\u001b[0m \u001b[39m#Решение задания 1\u001b[39;00m\n\u001b[1;32m----> <a href='vscode-notebook-cell:/c%3A/Users/%D0%94%D0%B5%D0%B6%D1%83%D1%80%D0%BD%D1%8B%D0%B9%20%D0%B2%D1%80%D0%B0%D1%87/Desktop/%D0%9A%D1%83%D1%80%D1%81%20DS/IDE/project_2/HW1.ipynb#W1sZmlsZQ%3D%3D?line=1'>2</a>\u001b[0m hours, minutes \u001b[39m=\u001b[39m \u001b[39mint\u001b[39m(\u001b[39minput\u001b[39m()), \u001b[39mint\u001b[39;49m(\u001b[39minput\u001b[39;49m())\n\u001b[0;32m      <a href='vscode-notebook-cell:/c%3A/Users/%D0%94%D0%B5%D0%B6%D1%83%D1%80%D0%BD%D1%8B%D0%B9%20%D0%B2%D1%80%D0%B0%D1%87/Desktop/%D0%9A%D1%83%D1%80%D1%81%20DS/IDE/project_2/HW1.ipynb#W1sZmlsZQ%3D%3D?line=2'>3</a>\u001b[0m \u001b[39mif\u001b[39;00m hours \u001b[39m==\u001b[39m \u001b[39m0\u001b[39m \u001b[39mand\u001b[39;00m minutes \u001b[39m==\u001b[39m \u001b[39m0\u001b[39m:\n\u001b[0;32m      <a href='vscode-notebook-cell:/c%3A/Users/%D0%94%D0%B5%D0%B6%D1%83%D1%80%D0%BD%D1%8B%D0%B9%20%D0%B2%D1%80%D0%B0%D1%87/Desktop/%D0%9A%D1%83%D1%80%D1%81%20DS/IDE/project_2/HW1.ipynb#W1sZmlsZQ%3D%3D?line=3'>4</a>\u001b[0m     \u001b[39mprint\u001b[39m(\u001b[39m'\u001b[39m\u001b[39mСтудент не спит!\u001b[39m\u001b[39m'\u001b[39m)\n",
            "\u001b[1;31mValueError\u001b[0m: invalid literal for int() with base 10: ''"
          ]
        }
      ],
      "source": [
        "#Решение задания 1\n",
        "hours, minutes = int(input()), int(input())\n",
        "if hours == 0 and minutes == 0:\n",
        "    print('Студент не спит!')\n",
        "else:\n",
        "    print(hours*60 + minutes)"
      ]
    },
    {
      "cell_type": "markdown",
      "metadata": {
        "id": "v_npn-j3C8jg"
      },
      "source": [
        "****\n",
        "**Задание 2**\n",
        "\n",
        "Студент МФТИ каждый день ложится спать ровно в полночь и недавно узнал, что оптимальное время для его сна составляет XX минут. Он хочет поставить себе будильник так, чтобы он прозвенел ровно через XX минут после полуночи, однако для этого необходимо указать время сигнала в формате часы, минуты. Помогите студенту определить, на какое время завести будильник.\n",
        "Часы и минуты в выводе программы должны располагаться на разных строках\n",
        "\n",
        "```\n",
        "Sample Input 1:\n",
        "480\n",
        "Sample Output 1:\n",
        "8\n",
        "0\n",
        "\n",
        "Sample Input 2:\n",
        "512\n",
        "Sample Output 2:\n",
        "8\n",
        "32\n",
        "```\n"
      ]
    },
    {
      "cell_type": "code",
      "execution_count": null,
      "metadata": {
        "id": "6jRyzamrCall"
      },
      "outputs": [],
      "source": [
        "# Решение задания 2\n",
        "optimal_time = int(input())\n",
        "print(optimal_time // 60)\n",
        "print(optimal_time % 60)\n"
      ]
    },
    {
      "cell_type": "markdown",
      "metadata": {
        "id": "Vxj4YJbkDMu7"
      },
      "source": [
        "****\n",
        "**Задание 3**\n",
        "\n",
        "Студент программы “Анализ данных в медицине” узнал, что ему для сна надо XX минут. В отличие от студента МФТИ, наш студент ложится спать после полуночи в HH часов и MM минут. Помогите определить, на какое время ему поставить будильник, чтобы он прозвенел ровно через XX минут после того, как он ляжет спать.\n",
        "На стандартный ввод, каждое в своей строке, подаются значения XX, HH и MM. Гарантируется, что студент программы “Fнализ данных в медицине” должен проснуться в тот же день, что и заснуть. Программа должна выводить время, на которое нужно поставить будильник: в первой строке часы, во второй — минуты.\n",
        "\n",
        "```\n",
        "Sample Input 1:\n",
        "480\n",
        "1\n",
        "2\n",
        "Sample Output 1:\n",
        "9\n",
        "2\n",
        "Sample Input 2:\n",
        "475\n",
        "1\n",
        "55\n",
        "Sample Output 2:\n",
        "9\n",
        "50\n",
        "\n",
        "```"
      ]
    },
    {
      "cell_type": "code",
      "execution_count": null,
      "metadata": {
        "id": "gjcewJX3DesJ"
      },
      "outputs": [],
      "source": [
        "#Решение задания 3\n",
        "#Входные данные по сну\n",
        "optimal_time = int(input())\n",
        "hours = int(input())\n",
        "minutes = int(input())\n",
        "\n",
        "\"\"\"Рассчитываем время для завода будильника,\n",
        "подрузамевая общее количество необходимых минут\"\"\"\n",
        "hours_time = optimal_time + hours * 60 + minutes\n",
        "#Выводим время будильника\n",
        "print(hours_time // 60)\n",
        "print(hours_time % 60)"
      ]
    },
    {
      "cell_type": "markdown",
      "metadata": {
        "id": "7g7d57UYDgj5"
      },
      "source": [
        "****\n",
        "**Задание 4**\n",
        "\n",
        "Напишите программу, на вход которой подается список чисел одной строкой. Программа должна для каждого элемента этого списка вывести сумму двух его соседей. Для элементов списка, являющихся крайними, одним из соседей считается элемент, находящийся на противоположном конце этого списка. Например, если на вход подаётся список \"1 3 5 6 10\", то на выход ожидается список \"13 6 9 15 7\" (без кавычек).\n",
        "\n",
        "Если на вход пришло только одно число, надо вывести его же.\n",
        "Вывод должен содержать одну строку с числами нового списка, разделенными пробелом.\n",
        "\n",
        "\n",
        "```\n",
        "Sample Input 1:\n",
        "1 3 5 6 10\n",
        "Sample Output 1:\n",
        "13 6 9 15 7\n",
        "Sample Input 2:\n",
        "10\n",
        "Sample Output 2:\n",
        "10\n",
        "```\n"
      ]
    },
    {
      "cell_type": "code",
      "execution_count": null,
      "metadata": {},
      "outputs": [],
      "source": [
        "#Решение задания 4\n",
        "list1 = [int(i) for i in input().split()] # Создаем список чисел\n",
        "summa = 0\n",
        "if len(list1) == 1:\n",
        "    print(list1[0])\n",
        "else:\n",
        "    for id in range(len(list1)): \n",
        "        if id == len(list1)-1: # Отдельная обработка \n",
        "                               #последнего числа в списке\n",
        "            summa = list1[id-1] + list1[0]\n",
        "        else:\n",
        "            summa = list1[id-1] + list1[id+1]\n",
        "        print(summa, end=' ')\n",
        "    "
      ]
    },
    {
      "cell_type": "markdown",
      "metadata": {
        "id": "C9DdzDwdDvlG"
      },
      "source": [
        "****\n",
        "**Задание 5**\n",
        "\n",
        "Напишите программу, которая принимает на вход список чисел в одной строке и выводит на экран в одну строку значения, которые встречаются в нём более одного раза.\n",
        "\n",
        "Для решения задачи может пригодиться метод sort списка (а может и не пригодиться).\n",
        "\n",
        "Выводимые числа не должны повторяться, порядок их вывода может быть произвольным. Разделитель чисел - пробел\n"
      ]
    },
    {
      "cell_type": "code",
      "execution_count": null,
      "metadata": {
        "id": "7DJQuzktD8xZ"
      },
      "outputs": [],
      "source": [
        "#Решение задания 5\n",
        "#Использую второй вариант создания списка чисел\n",
        "#Вариант решения 1\n",
        "str = input().split()\n",
        "list2 = list(map(int, str))\n",
        "list2.sort() \n",
        "resultat = []\n",
        "for el in list2:\n",
        "    if el in resultat:\n",
        "        continue # Если правильно понял, то это позволит ускорить программу\n",
        "    if list2.count(el) > 1 and el not in resultat:\n",
        "        resultat.append(el)\n",
        "print(*resultat)"
      ]
    },
    {
      "cell_type": "markdown",
      "metadata": {
        "id": "g1S48qv6EHjC"
      },
      "source": [
        "****\n",
        "**Задание 6**\n",
        "\n",
        "GC-состав является важной характеристикой геномных последовательностей и определяется как процентное соотношение суммы всех гуанинов и цитозинов к общему числу нуклеиновых оснований в геномной последовательности.\n",
        "\n",
        "Напишите программу, которая вычисляет процентное содержание символов G (гуанин) и C (цитозин) в введенной строке (программа не должна зависеть от регистра вводимых символов).\n",
        "Например, в строке \"acggtgttat\" процентное содержание символов G и C равно 4*0.1 * 100 = 40.0, где 4 - это количество символов G и C, а 10 - это длина строки.\n",
        "\n",
        "```\n",
        "Sample Input:\n",
        "acggtgttat\n",
        "Sample Output:\n",
        "40.0\n",
        "```\n"
      ]
    },
    {
      "cell_type": "code",
      "execution_count": null,
      "metadata": {
        "id": "UmyyLKDlEMAb"
      },
      "outputs": [],
      "source": [
        "#Решение задания 6\n",
        "str_gen = input().upper()\n",
        "\n",
        "gen_C = str_gen.count('C')\n",
        "gen_G = str_gen.count('G')\n",
        "\n",
        "# общее количество С и G в введеной последовательности\n",
        "gen_CG= gen_C + gen_G  \n",
        "#Формула определениея CG-состава\n",
        "CG_content = (gen_CG / len(str_gen)) * 100\n",
        "\n",
        "print(CG_content)"
      ]
    },
    {
      "cell_type": "markdown",
      "metadata": {
        "id": "Hm7d16upETUx"
      },
      "source": [
        "****\n",
        "**Задание 7**\n",
        "\n",
        "Узнав, что ДНК не является случайной строкой, только что поступившие в МФТИ студенты группы аналитиков данных предложили использовать алгоритм сжатия, который сжимает повторяющиеся символы в строке.\n",
        "Кодирование осуществляется следующим образом:\n",
        "s = 'aaaabbсaa' преобразуется в 'a4b2с1a2', то есть группы одинаковых символов исходной строки заменяются на этот символ и количество его повторений в этой позиции строки.\n",
        "\n",
        "Напишите программу, которая считывает строку, кодирует её предложенным алгоритмом и выводит закодированную последовательность на стандартный вывод. Кодирование должно учитывать регистр символов.\n",
        "\n",
        "\n",
        "```\n",
        "Sample Input 1:\n",
        "aaaabbcaa\n",
        "Sample Output 1:\n",
        "a4b2c1a2\n",
        "Sample Input 2:\n",
        "abc\n",
        "Sample Output 2:\n",
        "a1b1c1\n",
        "Sample Input 3:\n",
        "AaAaBBBbbbCCc\n",
        "Sample Output 3:\n",
        "A1a1A1a1B3b3C2c1\n",
        "```\n"
      ]
    },
    {
      "cell_type": "code",
      "execution_count": null,
      "metadata": {
        "id": "Gu7FS9kAEe2Q"
      },
      "outputs": [],
      "source": [
        "#Решение задания 7\n",
        "#Вариант 1\n",
        "genom_input = input()\n",
        "count = 1\n",
        "id = 0\n",
        "N = len(genom_input)\n",
        "for id in range(N-1):\n",
        "    if genom_input[id] == genom_input[id+1]:\n",
        "        count += 1\n",
        "    else:\n",
        "        print(genom_input[id],count,sep='',end='')\n",
        "        count = 1\n",
        "print(genom_input[-1],count,sep='',end='')\n"
      ]
    },
    {
      "cell_type": "markdown",
      "metadata": {
        "id": "Ky16NUTNEpr-"
      },
      "source": [
        "8****\n",
        "**Задание 8**\n",
        "\n",
        "Напишите программу, которая считывает с консоли числа (по одному в строке) до тех пор, пока сумма введённых чисел не будет равна 0 и сразу после этого выводит сумму квадратов всех считанных чисел.\n",
        "Гарантируется, что в какой-то момент сумма введённых чисел окажется равной 0, после этого считывание продолжать не нужно.\n",
        "В примере мы считываем числа 1, -3, 5, -6, -10, 13; в этот момент замечаем, что сумма этих чисел равна нулю и выводим сумму их квадратов, не обращая внимания на то, что остались ещё не прочитанные значения.\n",
        "\n",
        "\n",
        "```\n",
        "Sample Input:\n",
        "1\n",
        "-3\n",
        "5\n",
        "-6\n",
        "-10\n",
        "13\n",
        "4\n",
        "-8\n",
        "Sample Output:\n",
        "340\n",
        "```"
      ]
    },
    {
      "cell_type": "code",
      "execution_count": null,
      "metadata": {
        "id": "gSs8AHixFMwU"
      },
      "outputs": [],
      "source": [
        "#Решение задания 8\n",
        "resultat = 0\n",
        "sum = 0\n",
        "while True:\n",
        "    a = int(input())\n",
        "    sum += a\n",
        "    resultat += a**2\n",
        "    if sum == 0:\n",
        "        break\n",
        "print(resultat)"
      ]
    },
    {
      "cell_type": "markdown",
      "metadata": {
        "id": "bPeSnwt4F73y"
      },
      "source": [
        "****\n",
        "**Задание 9**\n",
        "\n",
        "Самое время использовать математику. Вы поднимаетесь по лестнице. Количество ступенек в ней = n.\n",
        "\n",
        "На каждом этапе вы можете переступить либо одну, либо две ступеньки. Как много уникальных способов добраться до верха существует?\n",
        "\n",
        "*1<=n<=45*\n",
        "\n",
        "\n",
        "\n",
        "```\n",
        "Input: n = 2\n",
        "Output: 2\n",
        "Explanation: There are two ways to climb to the top.\n",
        "1. 1 step + 1 step\n",
        "2. 2 steps\n",
        "\n",
        "Input: n = 3\n",
        "Output: 3\n",
        "Explanation: There are three ways to climb to the top.\n",
        "1. 1 step + 1 step + 1 step\n",
        "2. 1 step + 2 steps\n",
        "3. 2 steps + 1 step\n",
        "```\n",
        "\n"
      ]
    },
    {
      "cell_type": "code",
      "execution_count": null,
      "metadata": {
        "id": "HNhjOQZ7GdI5"
      },
      "outputs": [],
      "source": [
        "#Решение задания 9\n",
        "# Вариант 1\n",
        "# Декоратор\n",
        "def options(fib):\n",
        "    def decorate_options(*args,**kwargs):\n",
        "        list_fib1 = fib(*args, **kwargs)\n",
        "        if n < 0: return \"Неверное количество ступенек\"\n",
        "        if n == 0: return \"There are 0 ways to climb to the top\"\n",
        "        if n == 1: return \"There are 1 ways to climb to the top\"\n",
        "        print(f'There are {list_fib1[-1]} ways to climb to the top')\n",
        "        return list_fib1[-1]\n",
        "    return decorate_options\n",
        "\n",
        "\n",
        "n = int(input())\n",
        "@ options\n",
        "def fib(n):\n",
        "    \"\"\"\"\n",
        "    Выстраиваем ряд чисел Фибоначи, где последний \n",
        "    элемент списка и будет результатом(восхождения \n",
        "    на ступеньку n различными вариантами)\n",
        "\n",
        "    \"\"\"\n",
        "    list_fib = [0,1,1,2] # задаем начальный список\n",
        "    for i in range(2, n):\n",
        "        formula_fib = list_fib[-1] + list_fib[-2]\n",
        "        list_fib.append(formula_fib)\n",
        "    # для верности подсчета удаляем первые два элемента\n",
        "    del list_fib[0:2]\n",
        "    return list_fib\n",
        "fib(n)\n",
        "\n"
      ]
    },
    {
      "cell_type": "markdown",
      "metadata": {
        "id": "T8A0EHJTG03s"
      },
      "source": [
        "****\n",
        "**Задание 10**\n",
        "\n",
        "Напишите функцию, чтобы найти самый длинный префикс в листе, составленном из строк.\n",
        "\n",
        "Если общего префикса нет - верните пустую строку.\n",
        "\n",
        "\n",
        "\n",
        "```\n",
        "Input 1: strs = [\"flower\",\"flow\",\"flight\"]\n",
        "Output 1: \"fl\"\n",
        "\n",
        "Input 2: strs = [\"dog\",\"racecar\",\"car\"]\n",
        "Output 2: \"\"\n",
        "Explanation: There is no common prefix among the input strings.\n",
        "```\n",
        "\n"
      ]
    },
    {
      "cell_type": "code",
      "execution_count": null,
      "metadata": {
        "id": "T-TeO2QoHIMR"
      },
      "outputs": [],
      "source": [
        "#Решение задания 10\n",
        "# Вариант 1 \n",
        "strs = input().split(',')\n",
        "\n",
        "def prefics(strs):\n",
        "    \"\"\"\n",
        "    Функция для вычесления общего префикса\n",
        "    у строк из списка, основанная на поочередном \n",
        "    переборе первых символов самой короткой строки\n",
        "\n",
        "    \"\"\"\n",
        "    strs.sort(key = len)\n",
        "    general_prefics = \"\"\n",
        "    if len(strs) == 1: general_prefics = \"Nothing to compare\"\n",
        "    for i in range(len(strs)):\n",
        "        if i >= len(strs[0]): break\n",
        "        if strs[i][i] == strs[i-1][i]:\n",
        "            general_prefics += str(strs[i][i])       \n",
        "    return general_prefics\n",
        "    \n",
        "prefics(strs)          \n",
        "\n"
      ]
    }
  ],
  "metadata": {
    "colab": {
      "collapsed_sections": [],
      "provenance": []
    },
    "kernelspec": {
      "display_name": "Python 3.9.10 64-bit (system)",
      "language": "python",
      "name": "python3"
    },
    "language_info": {
      "codemirror_mode": {
        "name": "ipython",
        "version": 3
      },
      "file_extension": ".py",
      "mimetype": "text/x-python",
      "name": "python",
      "nbconvert_exporter": "python",
      "pygments_lexer": "ipython3",
      "version": "3.9.10"
    },
    "vscode": {
      "interpreter": {
        "hash": "7da2c949b1fa370954283c909d7d969c47b73a197d398a318c96ee81e8a2fa8d"
      }
    }
  },
  "nbformat": 4,
  "nbformat_minor": 0
}
